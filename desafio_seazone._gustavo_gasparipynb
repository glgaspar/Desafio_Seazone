{
  "cells": [
    {
      "cell_type": "markdown",
      "metadata": {},
      "source": [
        "# Desafio Seasone - Gustavo Gaspar"
      ]
    },
    {
      "cell_type": "code",
      "execution_count": 1,
      "metadata": {
        "id": "NXCmaIDRkbYd"
      },
      "outputs": [],
      "source": [
        "import pandas as pd\n",
        "import matplotlib.pyplot as plt\n",
        "%matplotlib inline\n",
        "import seaborn as sns\n",
        "from datetime import datetime\n",
        "from datetime import date\n",
        "import numpy as np"
      ]
    },
    {
      "cell_type": "code",
      "execution_count": 2,
      "metadata": {
        "colab": {
          "base_uri": "https://localhost:8080/",
          "height": 417
        },
        "id": "aRRo9pMRkt-Y",
        "outputId": "60ac63e8-8823-47e9-cdbe-afae008e8caa"
      },
      "outputs": [
        {
          "data": {
            "text/html": [
              "<div>\n",
              "<style scoped>\n",
              "    .dataframe tbody tr th:only-of-type {\n",
              "        vertical-align: middle;\n",
              "    }\n",
              "\n",
              "    .dataframe tbody tr th {\n",
              "        vertical-align: top;\n",
              "    }\n",
              "\n",
              "    .dataframe thead th {\n",
              "        text-align: right;\n",
              "    }\n",
              "</style>\n",
              "<table border=\"1\" class=\"dataframe\">\n",
              "  <thead>\n",
              "    <tr style=\"text-align: right;\">\n",
              "      <th></th>\n",
              "      <th>Unnamed: 0</th>\n",
              "      <th>airbnb_listing_id</th>\n",
              "      <th>suburb</th>\n",
              "      <th>ad_name</th>\n",
              "      <th>number_of_bedrooms</th>\n",
              "      <th>number_of_bathrooms</th>\n",
              "      <th>star_rating</th>\n",
              "      <th>is_superhost</th>\n",
              "      <th>number_of_reviews</th>\n",
              "    </tr>\n",
              "  </thead>\n",
              "  <tbody>\n",
              "    <tr>\n",
              "      <th>0</th>\n",
              "      <td>0</td>\n",
              "      <td>31389869</td>\n",
              "      <td>Jurerê</td>\n",
              "      <td>Lindo Apartamento em Jurerê</td>\n",
              "      <td>2.0</td>\n",
              "      <td>2.0</td>\n",
              "      <td>5.0</td>\n",
              "      <td>False</td>\n",
              "      <td>15.0</td>\n",
              "    </tr>\n",
              "    <tr>\n",
              "      <th>1</th>\n",
              "      <td>1</td>\n",
              "      <td>40010667</td>\n",
              "      <td>Canasvieiras</td>\n",
              "      <td>Residencial Arruda, 1 quarto</td>\n",
              "      <td>1.0</td>\n",
              "      <td>1.0</td>\n",
              "      <td>NaN</td>\n",
              "      <td>False</td>\n",
              "      <td>0.0</td>\n",
              "    </tr>\n",
              "    <tr>\n",
              "      <th>2</th>\n",
              "      <td>2</td>\n",
              "      <td>38905997</td>\n",
              "      <td>Ingleses</td>\n",
              "      <td>Apartamento NOVO Completo - Moderno e Sofisticado</td>\n",
              "      <td>1.0</td>\n",
              "      <td>1.0</td>\n",
              "      <td>4.5</td>\n",
              "      <td>True</td>\n",
              "      <td>13.0</td>\n",
              "    </tr>\n",
              "    <tr>\n",
              "      <th>3</th>\n",
              "      <td>3</td>\n",
              "      <td>22343656</td>\n",
              "      <td>Ingleses</td>\n",
              "      <td>06- Apartamento 02 habitaciones</td>\n",
              "      <td>2.0</td>\n",
              "      <td>1.0</td>\n",
              "      <td>5.0</td>\n",
              "      <td>True</td>\n",
              "      <td>28.0</td>\n",
              "    </tr>\n",
              "    <tr>\n",
              "      <th>4</th>\n",
              "      <td>4</td>\n",
              "      <td>18328184</td>\n",
              "      <td>Canasvieiras</td>\n",
              "      <td>Apto 2 quartos em Canasvieiras, Florianopolis!</td>\n",
              "      <td>2.0</td>\n",
              "      <td>1.0</td>\n",
              "      <td>5.0</td>\n",
              "      <td>True</td>\n",
              "      <td>35.0</td>\n",
              "    </tr>\n",
              "  </tbody>\n",
              "</table>\n",
              "</div>"
            ],
            "text/plain": [
              "   Unnamed: 0  airbnb_listing_id        suburb  \\\n",
              "0           0           31389869        Jurerê   \n",
              "1           1           40010667  Canasvieiras   \n",
              "2           2           38905997      Ingleses   \n",
              "3           3           22343656      Ingleses   \n",
              "4           4           18328184  Canasvieiras   \n",
              "\n",
              "                                             ad_name  number_of_bedrooms  \\\n",
              "0                        Lindo Apartamento em Jurerê                 2.0   \n",
              "1                       Residencial Arruda, 1 quarto                 1.0   \n",
              "2  Apartamento NOVO Completo - Moderno e Sofisticado                 1.0   \n",
              "3                    06- Apartamento 02 habitaciones                 2.0   \n",
              "4     Apto 2 quartos em Canasvieiras, Florianopolis!                 2.0   \n",
              "\n",
              "   number_of_bathrooms  star_rating  is_superhost  number_of_reviews  \n",
              "0                  2.0          5.0         False               15.0  \n",
              "1                  1.0          NaN         False                0.0  \n",
              "2                  1.0          4.5          True               13.0  \n",
              "3                  1.0          5.0          True               28.0  \n",
              "4                  1.0          5.0          True               35.0  "
            ]
          },
          "execution_count": 2,
          "metadata": {},
          "output_type": "execute_result"
        }
      ],
      "source": [
        "# lendo datasete de detalhes\n",
        "url = 'https://s3.amazonaws.com/gupy5/production/companies/8683/emails/1642617903284/e5eef080-7957-11ec-aeed-e34631527269/desafio_details.csv'\n",
        "detail = pd.read_csv(url)\n",
        "detail.head()"
      ]
    },
    {
      "cell_type": "code",
      "execution_count": 3,
      "metadata": {
        "id": "-AZCvmjscQrg"
      },
      "outputs": [
        {
          "data": {
            "text/html": [
              "<div>\n",
              "<style scoped>\n",
              "    .dataframe tbody tr th:only-of-type {\n",
              "        vertical-align: middle;\n",
              "    }\n",
              "\n",
              "    .dataframe tbody tr th {\n",
              "        vertical-align: top;\n",
              "    }\n",
              "\n",
              "    .dataframe thead th {\n",
              "        text-align: right;\n",
              "    }\n",
              "</style>\n",
              "<table border=\"1\" class=\"dataframe\">\n",
              "  <thead>\n",
              "    <tr style=\"text-align: right;\">\n",
              "      <th></th>\n",
              "      <th>Unnamed: 0</th>\n",
              "      <th>Unnamed: 0.1</th>\n",
              "      <th>airbnb_listing_id</th>\n",
              "      <th>booked_on</th>\n",
              "      <th>date</th>\n",
              "      <th>price_string</th>\n",
              "      <th>occupied</th>\n",
              "    </tr>\n",
              "  </thead>\n",
              "  <tbody>\n",
              "    <tr>\n",
              "      <th>0</th>\n",
              "      <td>0</td>\n",
              "      <td>2148</td>\n",
              "      <td>40201349</td>\n",
              "      <td>blank</td>\n",
              "      <td>2020-11-15</td>\n",
              "      <td>250.0</td>\n",
              "      <td>0</td>\n",
              "    </tr>\n",
              "    <tr>\n",
              "      <th>1</th>\n",
              "      <td>1</td>\n",
              "      <td>2159</td>\n",
              "      <td>40201349</td>\n",
              "      <td>blank</td>\n",
              "      <td>2020-11-26</td>\n",
              "      <td>250.0</td>\n",
              "      <td>0</td>\n",
              "    </tr>\n",
              "    <tr>\n",
              "      <th>2</th>\n",
              "      <td>2</td>\n",
              "      <td>2160</td>\n",
              "      <td>40201349</td>\n",
              "      <td>blank</td>\n",
              "      <td>2020-11-27</td>\n",
              "      <td>250.0</td>\n",
              "      <td>0</td>\n",
              "    </tr>\n",
              "    <tr>\n",
              "      <th>3</th>\n",
              "      <td>3</td>\n",
              "      <td>2173</td>\n",
              "      <td>40201349</td>\n",
              "      <td>blank</td>\n",
              "      <td>2020-12-10</td>\n",
              "      <td>250.0</td>\n",
              "      <td>0</td>\n",
              "    </tr>\n",
              "    <tr>\n",
              "      <th>4</th>\n",
              "      <td>4</td>\n",
              "      <td>2226</td>\n",
              "      <td>40201349</td>\n",
              "      <td>blank</td>\n",
              "      <td>2021-02-01</td>\n",
              "      <td>250.0</td>\n",
              "      <td>0</td>\n",
              "    </tr>\n",
              "  </tbody>\n",
              "</table>\n",
              "</div>"
            ],
            "text/plain": [
              "   Unnamed: 0  Unnamed: 0.1  airbnb_listing_id booked_on        date  \\\n",
              "0           0          2148           40201349     blank  2020-11-15   \n",
              "1           1          2159           40201349     blank  2020-11-26   \n",
              "2           2          2160           40201349     blank  2020-11-27   \n",
              "3           3          2173           40201349     blank  2020-12-10   \n",
              "4           4          2226           40201349     blank  2021-02-01   \n",
              "\n",
              "   price_string  occupied  \n",
              "0         250.0         0  \n",
              "1         250.0         0  \n",
              "2         250.0         0  \n",
              "3         250.0         0  \n",
              "4         250.0         0  "
            ]
          },
          "execution_count": 3,
          "metadata": {},
          "output_type": "execute_result"
        }
      ],
      "source": [
        "# lendo dataset de preço\n",
        "url = 'https://s3.amazonaws.com/gupy5/production/companies/8683/emails/1642617903282/e1ddd510-7957-11ec-80bf-9d0ec3c24431/desafio_priceav.csv'\n",
        "price = pd.read_csv(url)\n",
        "price.head()"
      ]
    },
    {
      "cell_type": "code",
      "execution_count": 4,
      "metadata": {
        "id": "xiNxQduedc8f"
      },
      "outputs": [],
      "source": [
        "# unificando os datasets\n",
        "df = detail.merge(price, on='airbnb_listing_id')\n",
        "df = df.drop(['Unnamed: 0_y','Unnamed: 0_x','Unnamed: 0.1'], axis=1) #eliminando clunas sem informação"
      ]
    },
    {
      "cell_type": "code",
      "execution_count": 5,
      "metadata": {},
      "outputs": [
        {
          "data": {
            "text/plain": [
              "(354520, 12)"
            ]
          },
          "execution_count": 5,
          "metadata": {},
          "output_type": "execute_result"
        }
      ],
      "source": [
        "#verificando número de linhas e colunas\n",
        "df.shape"
      ]
    },
    {
      "cell_type": "code",
      "execution_count": 6,
      "metadata": {
        "id": "TCYCkvRodzvR"
      },
      "outputs": [
        {
          "name": "stdout",
          "output_type": "stream",
          "text": [
            "airbnb_listing_id           0\n",
            "suburb                      0\n",
            "ad_name                     0\n",
            "number_of_bedrooms      15612\n",
            "number_of_bathrooms        74\n",
            "star_rating            136991\n",
            "is_superhost                0\n",
            "number_of_reviews         427\n",
            "booked_on                   0\n",
            "date                        0\n",
            "price_string                0\n",
            "occupied                    0\n",
            "dtype: int64\n"
          ]
        }
      ],
      "source": [
        "# conferindo quantidade de valores nulos em cada coluna\n",
        "print(df.isna().sum())"
      ]
    },
    {
      "cell_type": "code",
      "execution_count": 7,
      "metadata": {
        "id": "ezlUhiW9eD0Z"
      },
      "outputs": [
        {
          "name": "stdout",
          "output_type": "stream",
          "text": [
            "<class 'pandas.core.frame.DataFrame'>\n",
            "Int64Index: 354520 entries, 0 to 354519\n",
            "Data columns (total 12 columns):\n",
            " #   Column               Non-Null Count   Dtype  \n",
            "---  ------               --------------   -----  \n",
            " 0   airbnb_listing_id    354520 non-null  int64  \n",
            " 1   suburb               354520 non-null  object \n",
            " 2   ad_name              354520 non-null  object \n",
            " 3   number_of_bedrooms   338908 non-null  float64\n",
            " 4   number_of_bathrooms  354446 non-null  float64\n",
            " 5   star_rating          217529 non-null  float64\n",
            " 6   is_superhost         354520 non-null  bool   \n",
            " 7   number_of_reviews    354093 non-null  float64\n",
            " 8   booked_on            354520 non-null  object \n",
            " 9   date                 354520 non-null  object \n",
            " 10  price_string         354520 non-null  float64\n",
            " 11  occupied             354520 non-null  int64  \n",
            "dtypes: bool(1), float64(5), int64(2), object(4)\n",
            "memory usage: 32.8+ MB\n"
          ]
        }
      ],
      "source": [
        "# varificando informações sobre os dados\n",
        "df.info()"
      ]
    },
    {
      "cell_type": "markdown",
      "metadata": {
        "id": "e1oWKFTAlynA"
      },
      "source": [
        "## 1. Ordene os bairros em ordem crescente de número de listings"
      ]
    },
    {
      "cell_type": "code",
      "execution_count": 8,
      "metadata": {
        "id": "btIIJ8pdcHTC"
      },
      "outputs": [
        {
          "data": {
            "text/html": [
              "<div>\n",
              "<style scoped>\n",
              "    .dataframe tbody tr th:only-of-type {\n",
              "        vertical-align: middle;\n",
              "    }\n",
              "\n",
              "    .dataframe tbody tr th {\n",
              "        vertical-align: top;\n",
              "    }\n",
              "\n",
              "    .dataframe thead th {\n",
              "        text-align: right;\n",
              "    }\n",
              "</style>\n",
              "<table border=\"1\" class=\"dataframe\">\n",
              "  <thead>\n",
              "    <tr style=\"text-align: right;\">\n",
              "      <th></th>\n",
              "      <th>airbnb_listing_id</th>\n",
              "    </tr>\n",
              "    <tr>\n",
              "      <th>suburb</th>\n",
              "      <th></th>\n",
              "    </tr>\n",
              "  </thead>\n",
              "  <tbody>\n",
              "    <tr>\n",
              "      <th>Centro</th>\n",
              "      <td>19182</td>\n",
              "    </tr>\n",
              "    <tr>\n",
              "      <th>Lagoa da Conceição</th>\n",
              "      <td>23431</td>\n",
              "    </tr>\n",
              "    <tr>\n",
              "      <th>Jurerê</th>\n",
              "      <td>42857</td>\n",
              "    </tr>\n",
              "    <tr>\n",
              "      <th>Canasvieiras</th>\n",
              "      <td>92186</td>\n",
              "    </tr>\n",
              "    <tr>\n",
              "      <th>Ingleses</th>\n",
              "      <td>176864</td>\n",
              "    </tr>\n",
              "  </tbody>\n",
              "</table>\n",
              "</div>"
            ],
            "text/plain": [
              "                    airbnb_listing_id\n",
              "suburb                               \n",
              "Centro                          19182\n",
              "Lagoa da Conceição              23431\n",
              "Jurerê                          42857\n",
              "Canasvieiras                    92186\n",
              "Ingleses                       176864"
            ]
          },
          "execution_count": 8,
          "metadata": {},
          "output_type": "execute_result"
        }
      ],
      "source": [
        "# criando um subset do dataframe unificado para agrupar e ordenar os bairros em ordem crescente de número de listings\n",
        "\n",
        "bairro_listing = df[['suburb','airbnb_listing_id']].groupby('suburb').count().sort_values(by='airbnb_listing_id', ascending = True)\n",
        "bairro_listing.head()"
      ]
    },
    {
      "cell_type": "code",
      "execution_count": 9,
      "metadata": {
        "id": "dgRccdrggFUH"
      },
      "outputs": [
        {
          "data": {
            "image/png": "[encoded data removed]",
            "text/plain": [
              "<Figure size 1080x360 with 1 Axes>"
            ]
          },
          "metadata": {
            "needs_background": "light"
          },
          "output_type": "display_data"
        }
      ],
      "source": [
        "# gerando barplot com as informações do dataframe bairro_listing\n",
        "ax = bairro_listing.plot.bar(figsize=(15, 5))\n",
        "x_offset = -0.15\n",
        "y_offset = 0.06\n",
        "for p in ax.patches:\n",
        "  b = p.get_bbox()\n",
        "  val = \"{:.0f}\".format(b.y1 + b.y0)        \n",
        "  ax.annotate(val, ((b.x0 + b.x1)/2 + x_offset, b.y1 + y_offset))\n",
        "  plt.xticks(rotation=360)\n",
        "  plt.xlabel('Bairros')\n",
        "  plt.ylabel('Contagem de listings')\n",
        "  plt.title('Quantidade de listings por bairro')"
      ]
    },
    {
      "cell_type": "markdown",
      "metadata": {
        "id": "UlOKaxAJy5v8"
      },
      "source": [
        "O bairro com maior quantidade de listings é Ingleses, somando uma quantidade maior que o somatório das três próximas posições."
      ]
    },
    {
      "cell_type": "markdown",
      "metadata": {
        "id": "-izEqxf5l4hV"
      },
      "source": [
        "## 2. Ordene os bairros em ordem crescente de faturamento médio dos listings\n"
      ]
    },
    {
      "cell_type": "code",
      "execution_count": 10,
      "metadata": {
        "id": "rHOmbitdcAk3"
      },
      "outputs": [
        {
          "data": {
            "text/html": [
              "<div>\n",
              "<style scoped>\n",
              "    .dataframe tbody tr th:only-of-type {\n",
              "        vertical-align: middle;\n",
              "    }\n",
              "\n",
              "    .dataframe tbody tr th {\n",
              "        vertical-align: top;\n",
              "    }\n",
              "\n",
              "    .dataframe thead th {\n",
              "        text-align: right;\n",
              "    }\n",
              "</style>\n",
              "<table border=\"1\" class=\"dataframe\">\n",
              "  <thead>\n",
              "    <tr style=\"text-align: right;\">\n",
              "      <th></th>\n",
              "      <th>price_string</th>\n",
              "    </tr>\n",
              "    <tr>\n",
              "      <th>suburb</th>\n",
              "      <th></th>\n",
              "    </tr>\n",
              "  </thead>\n",
              "  <tbody>\n",
              "    <tr>\n",
              "      <th>Centro</th>\n",
              "      <td>219.088990</td>\n",
              "    </tr>\n",
              "    <tr>\n",
              "      <th>Lagoa da Conceição</th>\n",
              "      <td>250.514148</td>\n",
              "    </tr>\n",
              "    <tr>\n",
              "      <th>Canasvieiras</th>\n",
              "      <td>292.571139</td>\n",
              "    </tr>\n",
              "    <tr>\n",
              "      <th>Ingleses</th>\n",
              "      <td>350.371020</td>\n",
              "    </tr>\n",
              "    <tr>\n",
              "      <th>Jurerê</th>\n",
              "      <td>406.074854</td>\n",
              "    </tr>\n",
              "  </tbody>\n",
              "</table>\n",
              "</div>"
            ],
            "text/plain": [
              "                    price_string\n",
              "suburb                          \n",
              "Centro                219.088990\n",
              "Lagoa da Conceição    250.514148\n",
              "Canasvieiras          292.571139\n",
              "Ingleses              350.371020\n",
              "Jurerê                406.074854"
            ]
          },
          "execution_count": 10,
          "metadata": {},
          "output_type": "execute_result"
        }
      ],
      "source": [
        "# criando um subset do dataframe unificado para agrupar e ordenar os bairros em ordem crescente faturamento\n",
        "\n",
        "\n",
        "bairro_faturamento = df[['suburb','price_string']].groupby('suburb').mean().sort_values(by='price_string', ascending = True)\n",
        "bairro_faturamento.head()"
      ]
    },
    {
      "cell_type": "code",
      "execution_count": 11,
      "metadata": {
        "id": "rff1Lpn8hKd0"
      },
      "outputs": [
        {
          "data": {
            "image/png": "[encoded data removed]",
            "text/plain": [
              "<Figure size 1080x360 with 1 Axes>"
            ]
          },
          "metadata": {
            "needs_background": "light"
          },
          "output_type": "display_data"
        }
      ],
      "source": [
        "\n",
        "# gerando barplot com as informações do dataframe bairro_faturamento\n",
        "\n",
        "ax = bairro_faturamento.plot.bar(figsize=(15, 5))\n",
        "x_offset = -0.15\n",
        "y_offset = 0.06\n",
        "for p in ax.patches:\n",
        "  b = p.get_bbox()\n",
        "  val = \"{:.1f}\".format(b.y1 + b.y0)        \n",
        "  ax.annotate(val, ((b.x0 + b.x1)/2 + x_offset, b.y1 + y_offset))\n",
        "  plt.xticks(rotation=360)\n",
        "  plt.xlabel('Bairros')\n",
        "  plt.ylabel('Média de faturamento')\n",
        "  plt.title('Faturamento médio por bairro')"
      ]
    },
    {
      "cell_type": "markdown",
      "metadata": {
        "id": "7McB4qXXzla-"
      },
      "source": [
        "Emobra apresente a maior quantidade de listings, Ingleses perde na média de faturamento para Jurerê, que se encontra em terceiro na quantidade de listings. O que indica que seria interessante pensar uma estratégia para atrair mais imóveis em Jurerê"
      ]
    },
    {
      "cell_type": "markdown",
      "metadata": {
        "id": "xR1eo_rimHVD"
      },
      "source": [
        "## 3. Existem correlações entre as características de um anúncio e seu faturamento?\n",
        "\n",
        "   ### a. Quais? Explique"
      ]
    },
    {
      "cell_type": "code",
      "execution_count": 12,
      "metadata": {},
      "outputs": [
        {
          "data": {
            "image/png": "[encoded data removed]",
            "text/plain": [
              "<Figure size 1296x720 with 2 Axes>"
            ]
          },
          "metadata": {
            "needs_background": "light"
          },
          "output_type": "display_data"
        }
      ],
      "source": [
        "# gerando matriz de correlação sem valores repetidos e ordenados pela coluna price_string\n",
        "corr = df.corr()\n",
        "top_corr_cols = corr.price_string.sort_values(ascending=False).keys()\n",
        "top_corr = corr.loc[top_corr_cols, top_corr_cols]\n",
        "dropSelf = np.zeros_like(top_corr)\n",
        "dropSelf[np.triu_indices_from(dropSelf)] = True\n",
        "plt.figure(figsize=(18, 10))\n",
        "sns.heatmap(top_corr, cmap=sns.diverging_palette(220, 10, as_cmap=True), annot=True, fmt=\".2f\", mask=dropSelf)\n",
        "sns.set(font_scale=1.5)\n",
        "plt.show()"
      ]
    },
    {
      "cell_type": "markdown",
      "metadata": {
        "id": "3IN4ZWr3z9ca"
      },
      "source": [
        "O faturamento dos listings apresenta correlação positiva com os números de \n",
        "quartos e banheiros. Como os outros valores de correlação sequer atingem  0.1, considera-se que não há correlação."
      ]
    },
    {
      "cell_type": "markdown",
      "metadata": {
        "id": "Bm94MSBtmO0j"
      },
      "source": [
        "### 4. Qual a antecedência média das reservas?\n"
      ]
    },
    {
      "cell_type": "code",
      "execution_count": 13,
      "metadata": {
        "id": "mfHUf0pPWXac"
      },
      "outputs": [
        {
          "name": "stdout",
          "output_type": "stream",
          "text": [
            "A atencedência média das resrvas é: \n",
            " 32 days 08:26:27.787888524\n"
          ]
        }
      ],
      "source": [
        "#convertendo valores de data para obetos datetime para fazer cálculos de tempo\n",
        "df['date'] = df['date'].astype('datetime64[ns]')\n",
        "df['booked_on'] = pd.to_datetime(df['booked_on'], errors ='coerce')\n",
        "df['antecedencia'] = df['date']-df['booked_on']\n",
        "print('A atencedência média das resrvas é: \\n', df['antecedencia'].mean())"
      ]
    },
    {
      "cell_type": "markdown",
      "metadata": {
        "id": "FZpWx2CEmdSG"
      },
      "source": [
        "\n",
        "#### a. Esse número é maior ou menor para finais de semana?"
      ]
    },
    {
      "cell_type": "code",
      "execution_count": 14,
      "metadata": {
        "id": "L5RBrHsFiia7"
      },
      "outputs": [],
      "source": [
        "# gerando uma coluna de dia da semana para diferenciar dias úteis de fináis de semana\n",
        "df['dia_da_semana'] = df['date'].dt.dayofweek"
      ]
    },
    {
      "cell_type": "code",
      "execution_count": 15,
      "metadata": {
        "id": "QHcy-BkFjXhE"
      },
      "outputs": [
        {
          "name": "stdout",
          "output_type": "stream",
          "text": [
            "Antecedência média no fim de semana:  \n",
            " 32 days 08:53:39.479158268\n",
            "\n",
            "Antecedência média durante a semana:  \n",
            " 32 days 08:14:45.931038070\n",
            "\n",
            "Diferença das médias:  \n",
            " 0 days 00:38:53.548120198\n"
          ]
        }
      ],
      "source": [
        "# separando dias úteis e finais de semana para calcular as diferenças e valores específicos para cada\n",
        "semana = df.loc[df['dia_da_semana'] < 5, ['antecedencia']].mean()\n",
        "fds = df.loc[df['dia_da_semana'] > 4, ['antecedencia']].mean()\n",
        "diff = fds - semana\n",
        "print('Antecedência média no fim de semana:  \\n', fds[0])\n",
        "print('\\nAntecedência média durante a semana:  \\n', semana[0])\n",
        "print('\\nDiferença das médias:  \\n', diff[0])"
      ]
    },
    {
      "cell_type": "markdown",
      "metadata": {},
      "source": [
        "Apresentado uma diferença de 38 minutos, é seguro dizer que, em média, não há diferença entre as antecedências para reservas durante a semana e durante o fim de semana."
      ]
    }
  ],
  "metadata": {
    "colab": {
      "name": "seazone.ipynb",
      "provenance": []
    },
    "kernelspec": {
      "display_name": "Python 3",
      "name": "python3"
    },
    "language_info": {
      "codemirror_mode": {
        "name": "ipython",
        "version": 3
      },
      "file_extension": ".py",
      "mimetype": "text/x-python",
      "name": "python",
      "nbconvert_exporter": "python",
      "pygments_lexer": "ipython3",
      "version": "3.9.7"
    }
  },
  "nbformat": 4,
  "nbformat_minor": 0
}
